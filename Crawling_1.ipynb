{
 "cells": [
  {
   "cell_type": "code",
   "execution_count": 2,
   "metadata": {},
   "outputs": [],
   "source": [
    "import bs4\n",
    "import urllib.request as url"
   ]
  },
  {
   "cell_type": "code",
   "execution_count": 3,
   "metadata": {},
   "outputs": [],
   "source": [
    "http = url.urlopen(\"https://www.flipkart.com/search?q=iphone+x&as=on&as-show=on&otracker=AS_Query_HistoryAutoSuggest_0_6&otracker1=AS_Query_HistoryAutoSuggest_0_6&as-pos=0&as-type=HISTORY&as-backfill=on\")"
   ]
  },
  {
   "cell_type": "code",
   "execution_count": 4,
   "metadata": {},
   "outputs": [
    {
     "data": {
      "text/plain": [
       "<http.client.HTTPResponse at 0x21c6441d5f8>"
      ]
     },
     "execution_count": 4,
     "metadata": {},
     "output_type": "execute_result"
    }
   ],
   "source": [
    "http"
   ]
  },
  {
   "cell_type": "code",
   "execution_count": 5,
   "metadata": {},
   "outputs": [],
   "source": [
    "page = bs4.BeautifulSoup(http)"
   ]
  },
  {
   "cell_type": "code",
   "execution_count": 6,
   "metadata": {},
   "outputs": [],
   "source": [
    "div = page.find('div', class_='_3wU53n')"
   ]
  },
  {
   "cell_type": "code",
   "execution_count": 8,
   "metadata": {},
   "outputs": [
    {
     "data": {
      "text/plain": [
       "'Apple iPhone X (Silver, 256 GB)'"
      ]
     },
     "execution_count": 8,
     "metadata": {},
     "output_type": "execute_result"
    }
   ],
   "source": [
    "div.text"
   ]
  },
  {
   "cell_type": "code",
   "execution_count": 9,
   "metadata": {},
   "outputs": [],
   "source": [
    "div = page.find_all('div', class_='_3wU53n')"
   ]
  },
  {
   "cell_type": "code",
   "execution_count": 11,
   "metadata": {},
   "outputs": [
    {
     "data": {
      "text/plain": [
       "24"
      ]
     },
     "execution_count": 11,
     "metadata": {},
     "output_type": "execute_result"
    }
   ],
   "source": [
    "len(div)"
   ]
  },
  {
   "cell_type": "code",
   "execution_count": 12,
   "metadata": {},
   "outputs": [
    {
     "name": "stdout",
     "output_type": "stream",
     "text": [
      "Apple iPhone X (Silver, 256 GB)\n",
      "Apple iPhone X (Space Gray, 256 GB)\n",
      "Apple iPhone X (Space Gray, 64 GB)\n",
      "Apple iPhone XR (Black, 64 GB)\n",
      "Apple iPhone XR (Black, 128 GB)\n",
      "Apple iPhone 6s (Rose Gold, 32 GB)\n",
      "Apple iPhone XR (White, 64 GB)\n",
      "Apple iPhone 6s (Space Grey, 32 GB)\n",
      "Apple iPhone 6s (Gold, 32 GB)\n",
      "Apple iPhone XR (Coral, 64 GB)\n",
      "Apple iPhone 6s (Silver, 32 GB)\n",
      "Apple iPhone XR ((PRODUCT)RED, 128 GB)\n",
      "Apple iPhone 6s Plus (Space Grey, 32 GB)\n",
      "Apple iPhone XR (Coral, 128 GB)\n",
      "Apple iPhone 7 (Silver, 32 GB)\n",
      "Apple iPhone 6 (Space Grey, 32 GB)\n",
      "Apple iPhone 7 (Rose Gold, 128 GB)\n",
      "Apple iPhone 6s Plus (Rose Gold, 32 GB)\n",
      "Apple iPhone 6s Plus (Gold, 32 GB)\n",
      "Apple iPhone 7 (Black, 128 GB)\n",
      "Apple iPhone 6 (Gold, 32 GB)\n",
      "Apple iPhone 6s Plus (Silver, 32 GB)\n",
      "Apple iPhone 8 (Space Grey, 256 GB)\n",
      "Apple iPhone XR (Black, 256 GB)\n"
     ]
    }
   ],
   "source": [
    "for data in div:\n",
    "    print(data.text)"
   ]
  },
  {
   "cell_type": "code",
   "execution_count": 13,
   "metadata": {},
   "outputs": [],
   "source": [
    "ul = page.find('ul',class_='vFw0gD')"
   ]
  },
  {
   "cell_type": "code",
   "execution_count": 14,
   "metadata": {},
   "outputs": [
    {
     "data": {
      "text/plain": [
       "'256 GB ROM |14.73 cm (5.8 inch) Super Retina HD Display12MP + 12MP | 7MP Front CameraA11 Bionic Chip with 64-bit Architecture, Neural Engine, Embedded M11 Motion Coprocessor ProcessorBrand Warranty of 1 Year'"
      ]
     },
     "execution_count": 14,
     "metadata": {},
     "output_type": "execute_result"
    }
   ],
   "source": [
    "ul.text"
   ]
  },
  {
   "cell_type": "code",
   "execution_count": null,
   "metadata": {},
   "outputs": [],
   "source": []
  }
 ],
 "metadata": {
  "kernelspec": {
   "display_name": "Python 3",
   "language": "python",
   "name": "python3"
  },
  "language_info": {
   "codemirror_mode": {
    "name": "ipython",
    "version": 3
   },
   "file_extension": ".py",
   "mimetype": "text/x-python",
   "name": "python",
   "nbconvert_exporter": "python",
   "pygments_lexer": "ipython3",
   "version": "3.7.3"
  }
 },
 "nbformat": 4,
 "nbformat_minor": 2
}
